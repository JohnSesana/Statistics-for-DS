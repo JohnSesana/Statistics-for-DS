{
 "cells": [
  {
   "cell_type": "markdown",
   "metadata": {},
   "source": [
    "# Descriptive Statistics\n",
    "\n",
    "Descriptive statistics help summarize and describe the main features of a dataset. These statistics are categorized into measures of central tendency, dispersion, shape, and location.\n",
    "\n",
    "In this notebook:\n",
    "1. **Measures of Central Tendency**: Mean, Median, Mode\n",
    "2. **Measures of Dispersion**: Variance, Standard Deviation, Range,Interquartile Range (IQR)\n",
    "3. **Skewness and Kurtosis**: Understanding the shape of data distributions\n",
    "4. **Percentiles and Quartiles**: Breaking data into sections"
   ]
  },
  {
   "cell_type": "code",
   "execution_count": 2,
   "metadata": {},
   "outputs": [
    {
     "name": "stdout",
     "output_type": "stream",
     "text": [
      "First 5 rows of the dataset:\n",
      "       Values\n",
      "0  54.967142\n",
      "1  48.617357\n",
      "2  56.476885\n",
      "3  65.230299\n",
      "4  47.658466\n"
     ]
    }
   ],
   "source": [
    "import numpy as np\n",
    "import pandas as pd\n",
    "import scipy.stats as stats\n",
    "import matplotlib.pyplot as plt\n",
    "\n",
    "# Generate a fake dataset\n",
    "np.random.seed(42)\n",
    "data = np.random.normal(loc=50, scale=10, size=1000)  # Normal distribution (mean=50, std=10, 1000 samples)\n",
    "\n",
    "# Convert to pandas DataFrame for convenience\n",
    "df = pd.DataFrame(data, columns=['Values'])\n",
    "\n",
    "# Display first 5 rows\n",
    "print(\"First 5 rows of the dataset:\\n\", df.head())\n"
   ]
  },
  {
   "cell_type": "markdown",
   "metadata": {},
   "source": [
    "## 1. Measures of Central Tendency\n",
    "Central tendency refers to the center or typical value of a dataset. The three main measures are:\n",
    "\n",
    "- **Mean**: The average of all data points.\n",
    "- **Median**: The middle value when data points are sorted.\n",
    "- **Mode**: The most frequently occurring value(s) in the dataset."
   ]
  },
  {
   "cell_type": "code",
   "execution_count": 15,
   "metadata": {},
   "outputs": [
    {
     "name": "stdout",
     "output_type": "stream",
     "text": [
      "      Values\n",
      "0  54.967142\n",
      "1  48.617357\n",
      "2  56.476885\n",
      "3  65.230299\n",
      "4  47.658466\n",
      "Measures of Central Tendency:\n",
      "  - Mean: 50.19\n",
      "  - Median: 50.25\n",
      "  - Mode: 17.59\n",
      "\n"
     ]
    }
   ],
   "source": [
    "# Mean\n",
    "mean_value = df['Values'].mean()\n",
    "\n",
    "# Median\n",
    "median_value = df['Values'].median()\n",
    "\n",
    "# Mode\n",
    "mode_value = df['Values'].mode()[0]  # mode() returns a Series, so we take the first element\n",
    "\n",
    "print(df.head(5))\n",
    "print(\"Measures of Central Tendency:\")\n",
    "print(f\"  - Mean: {mean_value:.2f}\\n  - Median: {median_value:.2f}\\n  - Mode: {mode_value:.2f}\\n\")"
   ]
  },
  {
   "cell_type": "markdown",
   "metadata": {},
   "source": [
    "### 1.1 When to use it\n",
    "\n",
    "These measures (mean, median, mode) help you understand the \"central\" or typical value of your data. You use them when you need to summarize a dataset with a single number that represents its center.\n",
    "\n",
    "- **Mean**:\n",
    "  - **When to Use**: \n",
    "    - Use the mean when your data is normally distributed (i.e., it follows a bell-shaped curve) and there are no outliers that might skew the results.\n",
    "  - **Example**: \n",
    "    - In a dataset of employees' salaries in a company where most salaries are normally distributed, the mean salary would represent the typical salary of an employee.\n",
    "\n",
    "- **Median**:\n",
    "  - **When to Use**: \n",
    "    - Use the median when your data is skewed or has outliers. The median is less sensitive to extreme values and provides a better central tendency for skewed distributions.\n",
    "  - **Example**: \n",
    "    - In a dataset of house prices in a city where some properties are extremely expensive (outliers), the median price gives a more accurate reflection of what a typical house costs.\n",
    "\n",
    "- **Mode**:\n",
    "  - **When to Use**: \n",
    "    - Use the mode when you want to know the most frequent value in your dataset. This is useful for categorical data or data with repeated values.\n",
    "  - **Example**: \n",
    "    - In a dataset of customer preferences for ice cream flavors, the mode would tell you which flavor is the most popular."
   ]
  },
  {
   "cell_type": "markdown",
   "metadata": {},
   "source": [
    "# 2. Measures of Dispersion\n",
    "\n",
    "Dispersion describes the spread or variability in the data. Key measures include:\n",
    "\n",
    "- **Variance**: The average of the squared differences from the mean.\n",
    "- **Standard Deviation**: The square root of variance, indicating the spread of data.\n",
    "- **Range**: The difference between the maximum and minimum values.\n",
    "- **Interquartile Range (IQR)**: The range within the middle 50% of the data (Q3 - Q1)."
   ]
  },
  {
   "cell_type": "code",
   "execution_count": 13,
   "metadata": {},
   "outputs": [
    {
     "name": "stdout",
     "output_type": "stream",
     "text": [
      "      Values\n",
      "0  54.967142\n",
      "1  48.617357\n",
      "2  56.476885\n",
      "3  65.230299\n",
      "4  47.658466\n",
      "Measures of Dispersion:\n",
      "  - Variance: 95.89\n",
      "  - Standard Deviation: 9.79\n",
      "  - Range: 70.94\n",
      "  - IQR: 12.96\n"
     ]
    }
   ],
   "source": [
    "# Variance\n",
    "variance_value = df['Values'].var()\n",
    "\n",
    "# Standard Deviation\n",
    "std_dev_value = df['Values'].std()\n",
    "\n",
    "# Range\n",
    "range_value = df['Values'].max() - df['Values'].min()\n",
    "\n",
    "# Interquartile Range (IQR)\n",
    "q1 = df['Values'].quantile(0.25)\n",
    "q3 = df['Values'].quantile(0.75)\n",
    "iqr_value = q3 - q1\n",
    "\n",
    "print(df.head(5))\n",
    "print(\"Measures of Dispersion:\")\n",
    "print(f\"  - Variance: {variance_value:.2f}\\n  - Standard Deviation: {std_dev_value:.2f}\")\n",
    "print(f\"  - Range: {range_value:.2f}\\n  - IQR: {iqr_value:.2f}\")"
   ]
  },
  {
   "cell_type": "markdown",
   "metadata": {},
   "source": [
    "### 2.1 When to use it\n",
    "\n",
    "Measures of dispersion (variance, standard deviation, range, IQR) describe how spread out the data is. These are crucial when you want to understand the variability in your data.\n",
    "\n",
    "- **Variance and Standard Deviation**:\n",
    "  - **When to Use**:\n",
    "    - Use variance and standard deviation when you need to measure the spread of data points around the mean. These are useful for comparing the variability between different datasets.\n",
    "  - **Example**:\n",
    "    - In a dataset comparing the test scores of students from two different schools, you might use standard deviation to see which school's scores are more spread out (more variability).\n",
    "\n",
    "- **Range**:\n",
    "  - **When to Use**:\n",
    "    - Use the range when you want a quick, rough idea of the spread of your data. The range is very sensitive to outliers, so it's often not enough on its own.\n",
    "  - **Example**:\n",
    "    - In a dataset of temperatures recorded over a week, the range would show you the difference between the highest and lowest temperatur es.\n",
    "\n",
    "- **Interquartile Range (IQR)**:\n",
    "    - **When to Use**:\n",
    "        -   Use the IQR when you need a measure of variability that is not affected by outliers. The IQR focuses on the middle 50% of the data.\n",
    "  - **Example**:\n",
    "    - In a dataset of the time it takes customers to complete a checkout process, the IQR would show the spread of the central portion of the data, ignoring any extreme values (very fast or very slow checkouts)."
   ]
  },
  {
   "cell_type": "markdown",
   "metadata": {},
   "source": [
    "## 3 Skewness and Kurtosis\n",
    "\n",
    "These are used to understand the shape of the data distribution:\n",
    "\n",
    "- **Skewness**: Measures the asymmetry of the distribution. Positive skew means the tail is on the right, negative skew means the tail is on the left.\n",
    "- **Kurtosis**: Measures the \"tailedness\" of the distribution. High kurtosis indicates heavy tails, and low kurtosis indicates light tails."
   ]
  },
  {
   "cell_type": "code",
   "execution_count": 17,
   "metadata": {},
   "outputs": [
    {
     "name": "stdout",
     "output_type": "stream",
     "text": [
      "      Values\n",
      "0  54.967142\n",
      "1  48.617357\n",
      "2  56.476885\n",
      "3  65.230299\n",
      "4  47.658466\n",
      "- Skewness: 0.12\n",
      "- Kurtosis: 0.07\n"
     ]
    }
   ],
   "source": [
    "# Skewness\n",
    "skewness_value = df['Values'].skew()\n",
    "\n",
    "# Kurtosis\n",
    "kurtosis_value = df['Values'].kurtosis()\n",
    "\n",
    "print(df.head(5))\n",
    "print(f\"- Skewness: {skewness_value:.2f}\\n- Kurtosis: {kurtosis_value:.2f}\")\n"
   ]
  },
  {
   "cell_type": "markdown",
   "metadata": {},
   "source": [
    "### 3.1 When to use it\n",
    "\n",
    "These help you understand the shape of the data distribution, especially in relation to normality.\n",
    "\n",
    "- **Skewness**:\n",
    "  - **When to Use**: \n",
    "      - Use skewness when you need to understand the asymmetry of the data distribution. Skewness tells you whether the tail is longer on the left or right.\n",
    "  - **Example**: \n",
    "      - In a dataset of income levels in a population, if the skewness is positive, it indicates that there are a few extremely high earners (long right tail), pulling the average up.\n",
    "\n",
    "- **Kurtosis**:\n",
    "  - **When to Use**: \n",
    "      - Use kurtosis when you want to understand the tailedness of your data distribution. High kurtosis means more extreme values (heavy tails).\n",
    "  - **Example**: \n",
    "      - In financial data, high kurtosis may indicate that extreme events (e.g., market crashes) are more frequent than in a normal distribution, which is critical for risk assessment."
   ]
  },
  {
   "cell_type": "markdown",
   "metadata": {},
   "source": [
    "## 4. Percentiles and Quartiles\n",
    "Percentiles and quartiles help break down data into sections:\n",
    "\n",
    "- **Percentiles**: Divides the data into 100 equal parts. For example, the 90th percentile is the value below which 90% of the data falls.\n",
    "- **Quartiles**: Divides the data into four equal parts. The most common quartiles are:\n",
    "  - **Q1 (25th percentile)**: The value below which 25% of the data lies.\n",
    "  - **Q2 (50th percentile)**: The median (50th percentile).\n",
    "  - **Q3 (75th percentile)**: The value below which 75% of the data lies."
   ]
  },
  {
   "cell_type": "code",
   "execution_count": 19,
   "metadata": {},
   "outputs": [
    {
     "name": "stdout",
     "output_type": "stream",
     "text": [
      "      Values\n",
      "0  54.967142\n",
      "1  48.617357\n",
      "2  56.476885\n",
      "3  65.230299\n",
      "4  47.658466\n",
      "Percentiles and Quartiles:\n",
      "  - 90th Percentile: 63.06\n",
      "  - Q1: 43.52\n",
      "  - Q2 (Median): 50.25\n",
      "  - Q3: 56.48\n"
     ]
    }
   ],
   "source": [
    "# Percentiles\n",
    "percentile_90 = np.percentile(df['Values'], 90)\n",
    "\n",
    "# Quartiles\n",
    "q1 = np.percentile(df['Values'], 25)\n",
    "q2 = np.percentile(df['Values'], 50)  # Same as the median\n",
    "q3 = np.percentile(df['Values'], 75)\n",
    "\n",
    "print(df.head(5))\n",
    "print(\"Percentiles and Quartiles:\")\n",
    "print(f\"  - 90th Percentile: {percentile_90:.2f}\")\n",
    "print(f\"  - Q1: {q1:.2f}\\n  - Q2 (Median): {q2:.2f}\\n  - Q3: {q3:.2f}\")"
   ]
  },
  {
   "cell_type": "code",
   "execution_count": 20,
   "metadata": {},
   "outputs": [
    {
     "data": {
      "image/png": "[encoded data removed]",
      "text/plain": [
       "<Figure size 640x480 with 1 Axes>"
      ]
     },
     "metadata": {},
     "output_type": "display_data"
    }
   ],
   "source": [
    "# Plot histogram of the data\n",
    "plt.hist(df['Values'], bins=30, color='skyblue', edgecolor='black')\n",
    "plt.title('Data Distribution')\n",
    "plt.xlabel('Values')\n",
    "plt.ylabel('Frequency')\n",
    "plt.show()"
   ]
  },
  {
   "cell_type": "markdown",
   "metadata": {},
   "source": [
    "# 4.1 When to use it\n",
    "\n",
    "Percentiles and quartiles are useful when you want to break your data into segments and understand the distribution relative to other data points.\n",
    "\n",
    "- **Percentiles**:\n",
    "  - **When to Use**:\n",
    "    - Use percentiles when you need to understand the relative standing of a particular data point within a dataset. Percentiles are often used in scoring systems (e.g., standardized tests) to rank performance.\n",
    "  - **Example**:\n",
    "    - In a dataset of student test scores, knowing that a student is in the 90th percentile means that they scored higher than 90% of the students.\n",
    "\n",
    "- **Quartiles**:\n",
    "  - **When to Use**:\n",
    "    - Use quartiles when you want to divide your data into four equal parts. This is especially helpful for detecting outliers and understanding the spread of your data in chunks.\n",
    "  - **Example**:\n",
    "    - In a dataset of employee salaries, you could use quartiles to categorize employees into the lowest 25% (Q1), median 50% (Q2), and highest 25% (Q3) salary rangs."
   ]
  },
  {
   "cell_type": "markdown",
   "metadata": {},
   "source": [
    "# Summary\n",
    "\n",
    "- **Mean, Median, Mode**: These give us a sense of the central location of our data. For a normal distribution, they tend to be close to each other.\n",
    "- **Variance, Standard Deviation**: These tell us how spread out the data is. A higher standard deviation indicates more spread.\n",
    "- **Range and IQR**: These give us an idea of the overall spread (range) and the spread of the middle 50% of the data (IQR).\n",
    "- **Skewness and Kurtosis**: These shape parameters tell us about the symmetry and tails of the distribution. For a normal distribution, skewness is around 0, and kurtosis is around 3.\n",
    "- **Percentiles and Quartiles**: These help divide the data into sections, giving insights into the relative standing of data points.\n"
   ]
  },
  {
   "cell_type": "markdown",
   "metadata": {},
   "source": [
    "# Practical Guide to Data Analysis\n",
    "\n",
    "This will help you guide through a statistical analysis of any dataset.\n",
    "\n",
    "1. **Initial Exploration**:\n",
    "   - Start with mean, median, and mode to get a sense of the central tendency.\n",
    "   - Calculate range to get a rough idea of the spread.\n",
    "2. **Deep Dive into Dispersion**:\n",
    "   - If you need more insight into variability, calculate variance and standard deviation.\n",
    "   - Use IQR to understand the spread while ignoring potential outliers.\n",
    "3. **Shape Analysis**:\n",
    "   - Check skewness to see if your data is symmetrical or has a long tail.\n",
    "   - Look at kurtosis to see how prone your data is to producing outliers (extreme values).\n",
    "4. **Segmentation**:\n",
    "   - Use percentiles and quartiles when you need to break your data into meaningful chunks, especially for rankings or to identify outliers.\n",
    "\n",
    "**Example Scenario**\n",
    "\n",
    "Suppose you are analyzing customer satisfaction survey data (scores range from 1 to 10) for a company, and you need to summarize and understand the data distribution.\n",
    "\n",
    "1. **Central Tendency**: Calculate the mean to report the average satisfaction level. If the data has outliers (e.g., a few very low scores), use the median instead to avoid skewing the result.\n",
    "2. **Dispersion**: Calculate the standard deviation to report how varied the customer satisfaction scores are. If there are extreme outliers, use the IQR to focus on the variability of the middle portion of the data.\n",
    "3. **Shape Analysis**: Calculate skewness to see if the satisfaction scores are skewed (e.g., most people gave high scores, but a few gave very low scores). If kurtosis is high, this might indicate that extreme dissatisfaction or high satisfaction happens more often than expected.\n",
    "4. **Segmentation**: Use percentiles to identify top 10% (90th percentile) and bottom 10% (10th percentile) customer satisfaction levels. This can help target efforts to improve satisfaction for the lowest-scoring customers."
   ]
  }
 ],
 "metadata": {
  "kernelspec": {
   "display_name": "Python 3",
   "language": "python",
   "name": "python3"
  },
  "language_info": {
   "codemirror_mode": {
    "name": "ipython",
    "version": 3
   },
   "file_extension": ".py",
   "mimetype": "text/x-python",
   "name": "python",
   "nbconvert_exporter": "python",
   "pygments_lexer": "ipython3",
   "version": "3.12.5"
  }
 },
 "nbformat": 4,
 "nbformat_minor": 2
}
