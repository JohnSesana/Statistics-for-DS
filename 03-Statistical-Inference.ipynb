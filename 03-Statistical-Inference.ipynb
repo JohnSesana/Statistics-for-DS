{
 "cells": [
  {
   "cell_type": "markdown",
   "metadata": {},
   "source": [
    "# Statistical Inference\n",
    "\n",
    "In this notebook:\n",
    "1. **Hypothesis Testing**: Null and Alternative Hypotheses, p-value, Significance Levels (α)\n",
    "2. **Confidence Intervals**: Estimating population parameters\n",
    "3. **Z-test, t-test, Chi-Square Test, ANOVA**: Parametric and Non-parametric tests\n",
    "4. **Type I and Type II Errors**: False positives and false negatives\n",
    "5. **Power of a Test**: Understanding how likely a test is to detect an effect"
   ]
  },
  {
   "cell_type": "markdown",
   "metadata": {},
   "source": [
    "**Requirements:**\n",
    "\n",
    "`pip install numpy scipy statsmodels`"
   ]
  },
  {
   "cell_type": "markdown",
   "metadata": {},
   "source": [
    "## 1. Hypothesis Testing\n",
    "\n",
    "Hypothesis Testing is a way to make decisions or conclusions about data.\n",
    "\n",
    "You have two ideas:\n",
    "1. Default\n",
    "2. Alternative\n",
    "\n",
    "Then you use your data to decide which idea is more likely to be true"
   ]
  },
  {
   "cell_type": "markdown",
   "metadata": {},
   "source": [
    "### Key Concepts:\n",
    "\n",
    "- **Null Hypothesis ($H₀$)**: This is the starting assumption that there is no effect or no difference between groups or things you're testing. It's like saying, \"Nothing is happening here\".\n",
    "- **Althernative Hypothesis($H₁$)**: This challenges the null hypothesis, suggesting that there is an efect or difference. It's like saying, \"Something is happening here\".\n",
    "- **p-value**: This is a number that tell syou how likely it is to see your data(or something even more unusual) if the null hyothesis were true. A small p-value means your data is strange enought that it makes you doubt the null hypothesis.\n",
    "- **Significance Level ($α$)**: This is a cut-off point you choose beforehand (like 0.05 or 0.01). It helps you decide whether the p-value is small enough to reject the null hypothesis. If the p-value is less than $a$, you can say, \"It's unlikely the null hypothesis is true, so I'll reject it\" "
   ]
  },
  {
   "cell_type": "markdown",
   "metadata": {},
   "source": [
    "**Real-World Example:**\n",
    "\n",
    "- A/B Testing: A company tests whether a new landing page (B) leads to higher conversions than the old page (A).\n",
    "  - H₀: Conversion rates for page A and page B are the same.\n",
    "  - H₁: Conversion rates for page B are higher than for page A."
   ]
  },
  {
   "cell_type": "code",
   "execution_count": 5,
   "metadata": {},
   "outputs": [
    {
     "name": "stdout",
     "output_type": "stream",
     "text": [
      "t-statistic: -2.239574581444182, p-value: 0.025228165339669376\n",
      "Reject the null hypothesis (significant difference).\n"
     ]
    }
   ],
   "source": [
    "from scipy import stats\n",
    "import numpy as np\n",
    "\n",
    "# Simulate conversion data for two groups\n",
    "np.random.seed(55)\n",
    "group_a = np.random.binomial(1, 0.1, size=1000)  # 10% conversion for A\n",
    "group_b = np.random.binomial(1, 0.12, size=1000) # 12% conversion for B\n",
    "\n",
    "# Perform a two-sample t-test\n",
    "t_stat, p_value = stats.ttest_ind(group_a, group_b)\n",
    "\n",
    "print(f\"t-statistic: {t_stat}, p-value: {p_value}\")\n",
    "\n",
    "# Check if your p-value is less than your significance level (a)\n",
    "alpha = 0.05\n",
    "if p_value < alpha:\n",
    "    print(\"Reject the null hypothesis (significant difference).\")\n",
    "else:\n",
    "    print(\"Fail to reject the null hypothesis (no significant difference).\")\n"
   ]
  },
  {
   "cell_type": "markdown",
   "metadata": {},
   "source": [
    "## 2. Confidence Intervals\n",
    "\n",
    "A confidence interval provides a range of values, derived from sample data, that is likely to contain the population parameter. A 95% confidence interval means that if we were to take 100 different samples and compute a confidence interval for each sample, we expect about 95 of the intervals to contain the population mean."
   ]
  },
  {
   "cell_type": "markdown",
   "metadata": {},
   "source": [
    "### Real-World Example\n",
    "\n",
    "- **Poll Results:** You take a sample of 500 people to estimate the average height of the population. A 95% confidence interval gives you a range within which the true average height lies with 95% confidence."
   ]
  },
  {
   "cell_type": "code",
   "execution_count": 6,
   "metadata": {},
   "outputs": [
    {
     "name": "stdout",
     "output_type": "stream",
     "text": [
      "Mean height: 168.96\n",
      "95% Confidence Interval: 167.16\n"
     ]
    }
   ],
   "source": [
    "import scipy.stats as stats\n",
    "import numpy as np\n",
    "\n",
    "# Simulate sample data\n",
    "np.random.seed(42)\n",
    "sample = np.random.normal(170, 10, 100)  # Sample mean height of 170 cm, std dev 10 cm\n",
    "\n",
    "# Calculate 95% confidence interval\n",
    "mean = np.mean(sample)\n",
    "confidence_interval = stats.t.interval(confidence=0.95, df=len(sample)-1, loc=mean, scale=stats.sem(sample))\n",
    "\n",
    "print(f\"Mean height: {mean.round(2)}\")\n",
    "print(f\"95% Confidence Interval: {confidence_interval[0].round(2)}\")"
   ]
  },
  {
   "cell_type": "markdown",
   "metadata": {},
   "source": [
    "## 3. Z-test, t-test, Chi-Square Test, ANOVA\n",
    "\n",
    "**Key Concepts**:\n",
    "\n",
    "- **Z-test**: Used when the sample size is large ($n > 30$) and population variance is known.\n",
    "- **t-test**: Used when the sample size is small ($n < 30$) or population variance is unkown.\n",
    "- **Chi-Square Test**: Used to test for independence between categorical variables (e.g., customer preferences across different age groups).\n",
    "- **ANOVA**: Compares the mean sof three or more groups to see if at least one mean is different."
   ]
  },
  {
   "cell_type": "markdown",
   "metadata": {},
   "source": [
    "## Real-World Example:\n",
    "\n",
    "- **Anova**: A pharmaceutical company wants to test the effectiveness of three different drugs on patients' blood pressure. ANOVA can determine if there is a significant difference in effectiveness between the three drugs."
   ]
  },
  {
   "cell_type": "code",
   "execution_count": 7,
   "metadata": {},
   "outputs": [
    {
     "name": "stdout",
     "output_type": "stream",
     "text": [
      "              sum_sq    df          F        PR(>F)\n",
      "C(drug)    72.007144   2.0  25.280509  2.210744e-09\n",
      "Residual  123.902203  87.0        NaN           NaN\n"
     ]
    }
   ],
   "source": [
    "import pandas as pd\n",
    "import statsmodels.api as sm\n",
    "from statsmodels.formula.api import ols\n",
    "\n",
    "# Simulate data\n",
    "np.random.seed(42)\n",
    "data = {\n",
    "    'drug': np.repeat(['DrugA', 'DrugB', 'DrugC'], 30),\n",
    "    'bp_reduction': np.concatenate([\n",
    "        np.random.normal(5, 1, 30),  # Drug A\n",
    "        np.random.normal(7, 1.2, 30), # Drug B\n",
    "        np.random.normal(6.5, 1.5, 30) # Drug C\n",
    "    ])\n",
    "}\n",
    "\n",
    "df = pd.DataFrame(data)\n",
    "\n",
    "# Perform ANOVA\n",
    "model = ols('bp_reduction ~ C(drug)', data=df).fit()\n",
    "anova_table = sm.stats.anova_lm(model, typ=2)\n",
    "\n",
    "print(anova_table)\n"
   ]
  },
  {
   "cell_type": "markdown",
   "metadata": {},
   "source": [
    "## 4. Type I and Type II Errors\n",
    "\n",
    "### Key Concepts:\n",
    "- **Type I Error (False Positive)**: Rejecting the null hypothesis when it is true. You conclude there's an effect when ther isn't one.\n",
    "  - Ex: Thinking a drug works when it doesn't.\n",
    "- **Type II Error (False Negative)**: Failing to reject the null hypothesis when it is false. You conclude there is no effect when there is one.\n",
    "  - ExL Thinking a drug doesn't work when it does."
   ]
  },
  {
   "cell_type": "markdown",
   "metadata": {},
   "source": [
    "### Real World Examples\n",
    "\n",
    "- **Drug Testing**: In clinical trials, a Type I error would mean falsely claiming a new drug is effective, while a Type II error would mean failing to detect that the drug is effective when it actually is."
   ]
  },
  {
   "cell_type": "code",
   "execution_count": 8,
   "metadata": {},
   "outputs": [
    {
     "name": "stdout",
     "output_type": "stream",
     "text": [
      "Testing for Type I Error:\n",
      "P-value: 0.7120474714276352\n",
      "Fail to reject H0 (possible Type II error if true_effect=True)\n",
      "\n",
      "Testing for Type II Error:\n",
      "P-value: 0.02876240594352344\n",
      "Reject H0 (possible Type I error if true_effect=False)\n"
     ]
    }
   ],
   "source": [
    "# Simulate hypothesis testing with known population parameters\n",
    "def hypothesis_test(n=100, alpha=0.05, true_effect=False):\n",
    "    np.random.seed(50)\n",
    "    population_mean = 100\n",
    "    if true_effect:\n",
    "        sample = np.random.normal(population_mean + 2, 10, n)  # Adding a true effect\n",
    "    else:\n",
    "        sample = np.random.normal(population_mean, 10, n)  # No effect\n",
    "\n",
    "    # Perform one-sample t-test\n",
    "    t_stat, p_value = stats.ttest_1samp(sample, population_mean)\n",
    "    \n",
    "    print(f\"P-value: {p_value}\")\n",
    "    if p_value < alpha:\n",
    "        print(\"Reject H0 (possible Type I error if true_effect=False)\")\n",
    "    else:\n",
    "        print(\"Fail to reject H0 (possible Type II error if true_effect=True)\")\n",
    "\n",
    "# Example of Type I error\n",
    "print(\"Testing for Type I Error:\")\n",
    "hypothesis_test(n=100, true_effect=False)\n",
    "\n",
    "# Example of Type II error\n",
    "print(\"\\nTesting for Type II Error:\")\n",
    "hypothesis_test(n=100, true_effect=True)\n"
   ]
  },
  {
   "cell_type": "markdown",
   "metadata": {},
   "source": [
    "## 5. Power of a Test\n",
    "\n",
    "**Key Concepts**:\n",
    "- **Power**: \n",
    "  - The probability that a test will correctly reject the null hypotheisis\n",
    "  - Ex: Detect an effect if there is one\n",
    "  - A higher power means the test is more likely to detect true effects.\n",
    "\n",
    "Power is infuenced by:\n",
    "  - Sample size\n",
    "  - Effect size \n",
    "  - Significance level ($a$)."
   ]
  },
  {
   "cell_type": "markdown",
   "metadata": {},
   "source": [
    "### Real-World Example\n",
    "\n",
    "- **Medical Trials:**\n",
    "  - In designing a clinical trial, the power of the test helps researchers determine how large a sample they need to detect a meaningful difference in patient outcomes between treatment groups."
   ]
  },
  {
   "cell_type": "code",
   "execution_count": 12,
   "metadata": {},
   "outputs": [
    {
     "name": "stdout",
     "output_type": "stream",
     "text": [
      "Sample size needed for 80% power: 50\n"
     ]
    }
   ],
   "source": [
    "from statsmodels.stats.power import TTestIndPower\n",
    "\n",
    "# Parameters for power analysis\n",
    "effect_size = 0.5 # Medium Effect Size\n",
    "alpha = 0.05 # Significance level\n",
    "power = 0.8 # Desired power\n",
    "sample_size = np.arange(10, 500)\n",
    "\n",
    "power_analysis = TTestIndPower()\n",
    "sample_sizes_needed = power_analysis.solve_power(\n",
    "    effect_size=effect_size,\n",
    "    alpha=alpha,\n",
    "    power=power,\n",
    "    alternative='larger'\n",
    ")\n",
    "\n",
    "print(f'Sample size needed for 80% power: {round(sample_sizes_needed)}')"
   ]
  },
  {
   "cell_type": "markdown",
   "metadata": {},
   "source": [
    "# Summary\n",
    "\n",
    "| **Concept**                 | **When to Use**                                         | **Real-World Example**                               |\n",
    "|-----------------------------|--------------------------------------------------------|------------------------------------------------------|\n",
    "| **Hypothesis Testing**       | To test a claim or assumption about a population       | A/B test for website conversion rates                |\n",
    "| **Confidence Intervals**     | To estimate a range for a population parameter         | Estimating average height from a sample              |\n",
    "| **Z-test**                  | Comparing means when the sample is large (>30)         | Testing if the average salary in a city has changed  |\n",
    "| **t-test**                  | Comparing means when the sample is small (<30)         | Comparing average test scores between two small classes |\n",
    "| **Chi-Square Test**          | Testing relationships between categorical variables    | Testing if customer preferences vary by region       |\n",
    "| **ANOVA**                   | Comparing means of 3+ groups to check for differences  | Comparing the effectiveness of 3 different drugs     |\n",
    "| **Type I Error** (False Pos) | Mistakenly detecting an effect when none exists        | Concluding a drug works when it doesn't              |\n",
    "| **Type II Error** (False Neg)| Missing an effect when one exists                      | Failing to detect a working drug                     |\n",
    "| **Power of a Test**          | Checking the test’s ability to detect a true effect    | Ensuring a medical trial has enough participants     |\n"
   ]
  }
 ],
 "metadata": {
  "kernelspec": {
   "display_name": "Python 3",
   "language": "python",
   "name": "python3"
  },
  "language_info": {
   "codemirror_mode": {
    "name": "ipython",
    "version": 3
   },
   "file_extension": ".py",
   "mimetype": "text/x-python",
   "name": "python",
   "nbconvert_exporter": "python",
   "pygments_lexer": "ipython3",
   "version": "3.12.6"
  }
 },
 "nbformat": 4,
 "nbformat_minor": 2
}
